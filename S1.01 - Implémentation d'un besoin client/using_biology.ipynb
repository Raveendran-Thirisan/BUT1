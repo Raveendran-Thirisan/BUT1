{
 "cells": [
  {
   "cell_type": "markdown",
   "metadata": {},
   "source": [
    "# Notebook de présentation de la SAE S01.02"
   ]
  },
  {
   "cell_type": "markdown",
   "metadata": {},
   "source": [
    "## Binôme \n",
    "\n",
    "* Sylla DIABIRA Thirisan RAVEENDRAN "
   ]
  },
  {
   "cell_type": "markdown",
   "metadata": {},
   "source": [
    "# SUJET"
   ]
  },
  {
   "cell_type": "markdown",
   "metadata": {},
   "source": [
    "# Partie 1"
   ]
  },
  {
   "cell_type": "markdown",
   "metadata": {},
   "source": [
    "**Question 1**"
   ]
  },
  {
   "cell_type": "code",
   "execution_count": 16,
   "metadata": {},
   "outputs": [
    {
     "data": {
      "text/plain": [
       "True"
      ]
     },
     "execution_count": 16,
     "metadata": {},
     "output_type": "execute_result"
    }
   ],
   "source": [
    "adn = ['A','T','G','C']\n",
    "\n",
    "def est_base(c):\n",
    "    pass\n",
    "    return c in adn\n",
    "est_base('A')"
   ]
  },
  {
   "cell_type": "markdown",
   "metadata": {},
   "source": [
    "**Question 2**"
   ]
  },
  {
   "cell_type": "code",
   "execution_count": 18,
   "metadata": {},
   "outputs": [
    {
     "data": {
      "text/plain": [
       "True"
      ]
     },
     "execution_count": 18,
     "metadata": {},
     "output_type": "execute_result"
    }
   ],
   "source": [
    "def est_adn(s):\n",
    "    pass\n",
    "    for c in s:\n",
    "            if not est_base(c):\n",
    "                return False\n",
    "    return True\n",
    "est_adn(\"AAGT\")"
   ]
  },
  {
   "cell_type": "markdown",
   "metadata": {},
   "source": [
    "**Question 3**"
   ]
  },
  {
   "cell_type": "code",
   "execution_count": 19,
   "metadata": {},
   "outputs": [
    {
     "name": "stdout",
     "output_type": "stream",
     "text": [
      "AUU\n"
     ]
    }
   ],
   "source": [
    "def arn(adn):\n",
    "    pass\n",
    "    arn = ''\n",
    "    if not est_adn(adn):\n",
    "        print (\"Cette ADN n'existe pas\")\n",
    "        return None\n",
    "    for c in adn:\n",
    "        if c == 'A':\n",
    "            arn = arn+ 'A'\n",
    "        if c == 'C':\n",
    "            arn = arn+ 'C'\n",
    "        if c == 'G':\n",
    "            arn = arn+ 'G'\n",
    "        if c == 'T':\n",
    "            arn = arn+ 'U'\n",
    "    print(arn)\n",
    "    \n",
    "arn('ATT')"
   ]
  },
  {
   "cell_type": "markdown",
   "metadata": {},
   "source": [
    "**Question 4**"
   ]
  },
  {
   "cell_type": "code",
   "execution_count": 15,
   "metadata": {},
   "outputs": [
    {
     "data": {
      "text/plain": [
       "['CGU', 'AAU']"
      ]
     },
     "execution_count": 15,
     "metadata": {},
     "output_type": "execute_result"
    }
   ],
   "source": [
    "def arn_to_codons(arn):\n",
    "    pass\n",
    "    codons = []\n",
    "    if len (arn) <3:\n",
    "        return False\n",
    "    for j in range (len(arn)// 3) :\n",
    "        j=0\n",
    "        tmp= \"\"\n",
    "        while j < 3:\n",
    "            tmp+=arn[j]\n",
    "            j+=1\n",
    "        codons.append(tmp)\n",
    "        arn = arn[3::]\n",
    "    return codons\n",
    "\n",
    "\n",
    "arn_to_codons(\"CGUAAUGC\")"
   ]
  },
  {
   "cell_type": "markdown",
   "metadata": {},
   "source": [
    "**Question 5**"
   ]
  },
  {
   "cell_type": "code",
   "execution_count": 26,
   "metadata": {},
   "outputs": [
    {
     "data": {
      "text/plain": [
       "[]"
      ]
     },
     "execution_count": 26,
     "metadata": {},
     "output_type": "execute_result"
    }
   ],
   "source": [
    "from json import *\n",
    "def load_dico_codons_aa(filename):\n",
    "    pass\n",
    "    fichier = open(filename,\"r\")\n",
    "    json = fichier.read()\n",
    "    fichier.close()\n",
    "    dico = loads(json)\n",
    "    return dico\n",
    "\n",
    "\n",
    "dico= load_dico_codons_aa(\"codons_aa.json\")\n",
    "def codons_stop(codons, dico):\n",
    "    pass\n",
    "    t = []\n",
    "    for v in codons:\n",
    "        if v not in dico.keys():\n",
    "            t.append(v)\n",
    "    return t\n",
    "codons_stop([\"ACC\"],dico)"
   ]
  },
  {
   "cell_type": "markdown",
   "metadata": {},
   "source": [
    "**Question 6**"
   ]
  },
  {
   "cell_type": "code",
   "execution_count": 22,
   "metadata": {},
   "outputs": [
    {
     "data": {
      "text/plain": [
       "['Phenylalanine', 'Leucine', 'Tyrosine']"
      ]
     },
     "execution_count": 22,
     "metadata": {},
     "output_type": "execute_result"
    }
   ],
   "source": [
    "dico = load_dico_codons_aa(\"codons_aa.json\")\n",
    "def codons_to_aa(codons, dico):\n",
    "    pass\n",
    "    t = []\n",
    "    arret = codons_stop(codons,dico)\n",
    "    \n",
    "    for a in codons:\n",
    "        if a in arret:\n",
    "            return t\n",
    "        if a in dico.keys():\n",
    "            t.append(dico[a])\n",
    "    return t\n",
    "codons_to_aa ([\"UUU\",\"CUA\",\"UAC\"],dico)"
   ]
  }
 ],
 "metadata": {
  "kernelspec": {
   "display_name": "Python 3",
   "language": "python",
   "name": "python3"
  },
  "language_info": {
   "codemirror_mode": {
    "name": "ipython",
    "version": 3
   },
   "file_extension": ".py",
   "mimetype": "text/x-python",
   "name": "python",
   "nbconvert_exporter": "python",
   "pygments_lexer": "ipython3",
   "version": "3.8.10"
  }
 },
 "nbformat": 4,
 "nbformat_minor": 5
}
